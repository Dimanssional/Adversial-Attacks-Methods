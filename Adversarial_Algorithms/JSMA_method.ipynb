{
 "cells": [
  {
   "cell_type": "code",
   "execution_count": 49,
   "metadata": {
    "collapsed": true
   },
   "outputs": [
    {
     "name": "stdout",
     "output_type": "stream",
     "text": [
      "2.4.1\n"
     ]
    }
   ],
   "source": [
    "import tensorflow as tf\n",
    "import numpy as np\n",
    "\n",
    "from tensorflow.keras.datasets import cifar10, mnist\n",
    "from tensorflow.keras.utils import to_categorical, CustomObjectScope\n",
    "from tensorflow.keras.models import model_from_json\n",
    "from tensorflow.keras.optimizers import SGD\n",
    "from tensorflow.keras.initializers import he_uniform\n",
    "\n",
    "import matplotlib.pyplot as plt\n",
    "\n",
    "print(tf.__version__)"
   ]
  },
  {
   "cell_type": "code",
   "execution_count": 50,
   "outputs": [
    {
     "name": "stdout",
     "output_type": "stream",
     "text": [
      "(28, 28) \n",
      "\n"
     ]
    }
   ],
   "source": [
    "(X_train, y_train), (X_test, y_test) = mnist.load_data()\n",
    "\n",
    "print(X_train[0].shape, \"\\n\")\n",
    "img_rows, img_cols, channels = 28, 28, 1\n",
    "num_classes = 10\n",
    "\n",
    "X_train = X_train / 255\n",
    "X_test = X_test / 255\n",
    "\n",
    "X_train = X_train.reshape((-1, img_rows, img_cols, channels))\n",
    "X_test = X_test.reshape((-1, img_rows, img_cols, channels))\n",
    "\n",
    "y_train = to_categorical(y_train, num_classes)\n",
    "y_test = to_categorical(y_test, num_classes)\n",
    "\n",
    "labels = ['zero', 'one', 'two', 'three', 'four', 'five', 'six', 'seven', 'eight', 'nine']"
   ],
   "metadata": {
    "collapsed": false,
    "pycharm": {
     "name": "#%%\n"
    }
   }
  },
  {
   "cell_type": "code",
   "execution_count": 51,
   "outputs": [
    {
     "name": "stdout",
     "output_type": "stream",
     "text": [
      "(784,)\n"
     ]
    }
   ],
   "source": [
    "print(X_test[2].ravel().shape)"
   ],
   "metadata": {
    "collapsed": false,
    "pycharm": {
     "name": "#%%\n"
    }
   }
  },
  {
   "cell_type": "code",
   "execution_count": 52,
   "outputs": [],
   "source": [
    "(X_train_C, y_train_C), (X_test_C, y_test_C) = cifar10.load_data()\n",
    "\n",
    "img_cols_C, img_rows_C, channels_C = 32, 32, 3\n",
    "num_classes_C = 10\n",
    "\n",
    "test_images_1d = X_test.reshape((10000, 28 * 28))\n",
    "test_images_1d = test_images_1d.astype('float32') / 255\n",
    "X_train_C = X_train_C / 255\n",
    "X_test_C = X_test_C / 255\n",
    "\n",
    "X_train_C = X_train_C.reshape((-1, img_rows_C, img_cols_C, channels_C))\n",
    "X_test_C = X_test_C.reshape((-1, img_rows_C, img_cols_C, channels_C))\n",
    "\n",
    "y_train_C = to_categorical(y_train_C, num_classes_C)\n",
    "y_test_C = to_categorical(y_test_C, num_classes_C)\n",
    "\n",
    "labels_C = ['airplane', 'automobile', 'bird', 'cat', 'deer', 'dog', 'frog', 'horse', 'ship', 'truck']"
   ],
   "metadata": {
    "collapsed": false,
    "pycharm": {
     "name": "#%%\n"
    }
   }
  },
  {
   "cell_type": "code",
   "execution_count": 53,
   "outputs": [
    {
     "name": "stdout",
     "output_type": "stream",
     "text": [
      "(3072,)\n"
     ]
    }
   ],
   "source": [
    "print(X_test_C[2].ravel().shape)\n"
   ],
   "metadata": {
    "collapsed": false,
    "pycharm": {
     "name": "#%%\n"
    }
   }
  },
  {
   "cell_type": "code",
   "execution_count": 54,
   "outputs": [
    {
     "name": "stdout",
     "output_type": "stream",
     "text": [
      "Model: \"CNN_model_cifar\"\n",
      "_________________________________________________________________\n",
      "Layer (type)                 Output Shape              Param #   \n",
      "=================================================================\n",
      "conv2d (Conv2D)              (None, 32, 32, 32)        896       \n",
      "_________________________________________________________________\n",
      "batch_normalization (BatchNo (None, 32, 32, 32)        128       \n",
      "_________________________________________________________________\n",
      "conv2d_1 (Conv2D)            (None, 32, 32, 32)        9248      \n",
      "_________________________________________________________________\n",
      "batch_normalization_1 (Batch (None, 32, 32, 32)        128       \n",
      "_________________________________________________________________\n",
      "max_pooling2d (MaxPooling2D) (None, 16, 16, 32)        0         \n",
      "_________________________________________________________________\n",
      "dropout (Dropout)            (None, 16, 16, 32)        0         \n",
      "_________________________________________________________________\n",
      "conv2d_2 (Conv2D)            (None, 16, 16, 64)        18496     \n",
      "_________________________________________________________________\n",
      "batch_normalization_2 (Batch (None, 16, 16, 64)        256       \n",
      "_________________________________________________________________\n",
      "conv2d_3 (Conv2D)            (None, 16, 16, 64)        36928     \n",
      "_________________________________________________________________\n",
      "batch_normalization_3 (Batch (None, 16, 16, 64)        256       \n",
      "_________________________________________________________________\n",
      "max_pooling2d_1 (MaxPooling2 (None, 8, 8, 64)          0         \n",
      "_________________________________________________________________\n",
      "dropout_1 (Dropout)          (None, 8, 8, 64)          0         \n",
      "_________________________________________________________________\n",
      "conv2d_4 (Conv2D)            (None, 8, 8, 128)         73856     \n",
      "_________________________________________________________________\n",
      "batch_normalization_4 (Batch (None, 8, 8, 128)         512       \n",
      "_________________________________________________________________\n",
      "conv2d_5 (Conv2D)            (None, 8, 8, 128)         147584    \n",
      "_________________________________________________________________\n",
      "batch_normalization_5 (Batch (None, 8, 8, 128)         512       \n",
      "_________________________________________________________________\n",
      "flatten (Flatten)            (None, 8192)              0         \n",
      "_________________________________________________________________\n",
      "dropout_2 (Dropout)          (None, 8192)              0         \n",
      "_________________________________________________________________\n",
      "dense (Dense)                (None, 128)               1048704   \n",
      "_________________________________________________________________\n",
      "batch_normalization_6 (Batch (None, 128)               512       \n",
      "_________________________________________________________________\n",
      "dropout_3 (Dropout)          (None, 128)               0         \n",
      "_________________________________________________________________\n",
      "dense_1 (Dense)              (None, 10)                1290      \n",
      "=================================================================\n",
      "Total params: 1,339,306\n",
      "Trainable params: 1,338,154\n",
      "Non-trainable params: 1,152\n",
      "_________________________________________________________________\n"
     ]
    }
   ],
   "source": [
    "jfile = open(\"../CNN_model_cifar.json\", \"r\")\n",
    "loaded_json1 = jfile.read()\n",
    "jfile.close()\n",
    "with CustomObjectScope({'HeUniform': he_uniform()}):\n",
    "    loaded_model1 = model_from_json(loaded_json1)\n",
    "loaded_model1.load_weights(\"../CNN_model_cifar.h5\")\n",
    "loaded_model1.compile(optimizer=SGD(learning_rate=0.001, momentum=0.9), loss=\"categorical_crossentropy\", metrics=['accuracy'])\n",
    "\n",
    "loaded_model1.summary()"
   ],
   "metadata": {
    "collapsed": false,
    "pycharm": {
     "name": "#%%\n"
    }
   }
  },
  {
   "cell_type": "code",
   "execution_count": 55,
   "outputs": [],
   "source": [
    "\n",
    "jfile = open(\"../CNN_model_mnist.json\", \"r\")\n",
    "loaded_json = jfile.read()\n",
    "jfile.close()\n",
    "loaded_model = model_from_json(loaded_json)\n",
    "loaded_model.load_weights(\"../CNN_model_mnist.h5\")\n",
    "loaded_model.compile(loss='mse', optimizer='adam', metrics=['accuracy'])\n",
    "\n",
    "jfile = open(\"../CNN_model_mnist_adversarial.json\", \"r\")\n",
    "loaded_json_adv = jfile.read()\n",
    "jfile.close()\n",
    "loaded_model_adv = model_from_json(loaded_json_adv)\n",
    "loaded_model_adv.load_weights(\"../CNN_model_mnist_adversarial.h5\")\n",
    "loaded_model_adv.compile(loss='mse', optimizer='adam', metrics=['accuracy'])"
   ],
   "metadata": {
    "collapsed": false,
    "pycharm": {
     "name": "#%%\n"
    }
   }
  },
  {
   "cell_type": "code",
   "execution_count": 56,
   "outputs": [],
   "source": [
    "class JSMA(object):\n",
    "\n",
    "    def __init__(self, model, X, Y, channels, clip_min=0.0, clip_max=1.0):\n",
    "\n",
    "        self.model = model\n",
    "\n",
    "        self.eps = 0\n",
    "        self.clip_min = clip_min\n",
    "        self.clip_max = clip_max\n",
    "\n",
    "        self.img_rows = X\n",
    "        self.img_cols = Y\n",
    "        self.channels = channels\n",
    "\n",
    "    def get_logits(self):\n",
    "        self.model.layers[-1].activation = None\n",
    "\n",
    "    def get_probs(self, logits):\n",
    "        return tf.nn.softmax(logits)\n",
    "\n",
    "    def compute_jacobian_matrix(self, image, target, y_inidx, y_tidx):\n",
    "        # compute jacobian of model prediction with respect to input\n",
    "\n",
    "        self.get_logits()\n",
    "\n",
    "        logits = self.model(image)\n",
    "\n",
    "        logits = np.array(tf.reshape(logits, (-1, )))\n",
    "        logidx, logidx_target = logits[y_inidx], logits[y_tidx]\n",
    "\n",
    "        jacobian, jacobian_target = np.gradient(image.ravel(), logidx),\\\n",
    "                              np.gradient(target.ravel(), logidx_target)\n",
    "\n",
    "        return tf.cast(jacobian.reshape(1, self.img_cols, self.img_rows, self.channels), tf.float32), \\\n",
    "               tf.cast(jacobian_target.reshape(1, self.img_cols, self.img_rows, self.channels), tf.float32)\n",
    "\n",
    "\n",
    "    def compute_saliency_map(self, input_image, dF_tX, dF_jX):\n",
    "        # compute saliency map with respect to jacobian\n",
    "        c1, c2 = tf.logical_or(self.eps < 0, input_image < self.clip_max), \\\n",
    "                 tf.logical_or(self.eps > 0, input_image > self.clip_min)\n",
    "\n",
    "        sal1 = dF_tX >= 0\n",
    "        sal2 = dF_jX <= 0\n",
    "\n",
    "        shape = input_image.ravel().shape[0]\n",
    "\n",
    "        condition = tf.cast(tf.reduce_all([c1, c2, sal1, sal2], axis=0), dtype=tf.float32)\n",
    "        score_sm = condition * (dF_tX * tf.abs(dF_jX))\n",
    "\n",
    "        score_sm = tf.reshape(score_sm, shape=[1, shape])\n",
    "        return score_sm\n",
    "\n",
    "    def adversarial_patternJSMA(self, input_image, target_image, y_inidx, y_tidx,  max_iter):\n",
    "        # generate adversarial perturbations\n",
    "        perturbations = []\n",
    "\n",
    "        jacobian_input, jacobian_target= self.compute_jacobian_matrix(input_image, target_image, y_inidx, y_tidx)\n",
    "        jacobian_adv = jacobian_input - jacobian_target\n",
    "\n",
    "        saliency_score = self.compute_saliency_map(input_image, jacobian_target, jacobian_adv)\n",
    "        shape = input_image.ravel().shape[0]\n",
    "        update_map = np.ones((1, shape), dtype=np.float32)\n",
    "\n",
    "        i = 0\n",
    "        while i < max_iter:\n",
    "            # self.eps = np.random.uniform(0.01, 2.5)\n",
    "            self.eps = 1.0\n",
    "            idx = tf.argmax(saliency_score, axis=1)\n",
    "            update_map[:, int(idx)] = 0.0\n",
    "            update_map = tf.constant(update_map, dtype=tf.float32)\n",
    "            saliency_score = saliency_score * update_map\n",
    "\n",
    "            update_map = np.array(update_map, dtype=np.float32)\n",
    "            perturbation = tf.one_hot(idx, shape, on_value=self.eps, off_value=0.0)\n",
    "            perturbation = tf.reshape(perturbation, shape=tf.shape(input_image))\n",
    "\n",
    "            perturbations.append(perturbation)\n",
    "            i+=1\n",
    "\n",
    "        pert_sum = tf.zeros((1, self.img_cols, self.img_rows, self.channels), dtype=tf.float32)\n",
    "        for pert in perturbations:\n",
    "            pert_sum += pert\n",
    "\n",
    "        adversarial_image = tf.clip_by_value(tf.stop_gradient(input_image + pert_sum), self.clip_min, self.clip_max)\n",
    "\n",
    "\n",
    "        return np.array(adversarial_image), np.array(pert_sum)\n"
   ],
   "metadata": {
    "collapsed": false,
    "pycharm": {
     "name": "#%%\n"
    }
   }
  },
  {
   "cell_type": "code",
   "execution_count": 57,
   "outputs": [],
   "source": [
    "jsma = JSMA(loaded_model, img_rows, img_cols, channels)\n"
   ],
   "metadata": {
    "collapsed": false,
    "pycharm": {
     "name": "#%%\n"
    }
   }
  },
  {
   "cell_type": "code",
   "execution_count": 164,
   "outputs": [],
   "source": [
    "image = X_test[72].reshape((1, img_rows, img_cols, channels))\n",
    "\n",
    "target = X_test[54].reshape((1, img_rows, img_cols, channels))\n",
    "adv, pert = jsma.adversarial_patternJSMA(image, target, np.argmax(y_test[72]), np.argmax(y_test[54]),\n",
    "                                         max_iter=90)\n",
    "\n",
    "image1 = X_test[35].reshape((1, img_rows, img_cols, channels))\n",
    "\n",
    "target1 = X_test[58].reshape((1, img_rows, img_cols, channels))\n",
    "adv1, pert1 = jsma.adversarial_patternJSMA(image1, target1, np.argmax(y_test[122]), np.argmax(y_test[58]),\n",
    "                                           max_iter=130)\n",
    "# 122"
   ],
   "metadata": {
    "collapsed": false,
    "pycharm": {
     "name": "#%%\n"
    }
   }
  },
  {
   "cell_type": "code",
   "execution_count": 59,
   "outputs": [
    {
     "name": "stdout",
     "output_type": "stream",
     "text": [
      "image №1: two\n",
      "image №2: seven \n",
      "\n",
      "target №1: six\n",
      "target №2: nine\n"
     ]
    }
   ],
   "source": [
    "print(\"image №1: %s\" % labels[np.argmax(y_test[72])])\n",
    "print(\"image №2: %s\" % labels[np.argmax(y_test[122])], \"\\n\")\n",
    "\n",
    "print(\"target №1: %s\" % labels[np.argmax(y_test[54])])\n",
    "print(\"target №2: %s\" % labels[np.argmax(y_test[58])])"
   ],
   "metadata": {
    "collapsed": false,
    "pycharm": {
     "name": "#%%\n"
    }
   }
  },
  {
   "cell_type": "code",
   "execution_count": 156,
   "outputs": [
    {
     "data": {
      "text/plain": "<matplotlib.image.AxesImage at 0x1829b2e5088>"
     },
     "execution_count": 156,
     "metadata": {},
     "output_type": "execute_result"
    },
    {
     "data": {
      "text/plain": "<Figure size 1080x1080 with 2 Axes>",
      "image/png": "[encoded data removed]"
     },
     "metadata": {
      "needs_background": "light"
     },
     "output_type": "display_data"
    }
   ],
   "source": [
    "plt.figure(figsize=(15, 15))\n",
    "# 21\n",
    "plt.subplot(121)\n",
    "plt.imshow(X_test[54], cmap=\"gray\")\n",
    "\n",
    "plt.subplot(122)\n",
    "plt.imshow(X_test[58], cmap=\"gray\")"
   ],
   "metadata": {
    "collapsed": false,
    "pycharm": {
     "name": "#%%\n"
    }
   }
  },
  {
   "cell_type": "code",
   "execution_count": 165,
   "outputs": [
    {
     "data": {
      "text/plain": "<matplotlib.image.AxesImage at 0x1829ab62108>"
     },
     "execution_count": 165,
     "metadata": {},
     "output_type": "execute_result"
    },
    {
     "data": {
      "text/plain": "<Figure size 1080x1080 with 2 Axes>",
      "image/png": "[encoded data removed]"
     },
     "metadata": {
      "needs_background": "light"
     },
     "output_type": "display_data"
    }
   ],
   "source": [
    "plt.figure(figsize=(15, 15))\n",
    "\n",
    "plt.subplot(121)\n",
    "plt.imshow(adv.reshape(28, 28), cmap=\"gray\")\n",
    "\n",
    "plt.subplot(122)\n",
    "plt.imshow(adv1.reshape(28, 28), cmap=\"gray\")"
   ],
   "metadata": {
    "collapsed": false,
    "pycharm": {
     "name": "#%%\n"
    }
   }
  },
  {
   "cell_type": "code",
   "execution_count": 166,
   "outputs": [
    {
     "name": "stdout",
     "output_type": "stream",
     "text": [
      "[array([0.241, 0.   , 0.191, 0.   , 0.   , 0.   , 0.56 , 0.   , 0.007,\n",
      "       0.   ], dtype=float32)]\n"
     ]
    }
   ],
   "source": [
    "print(\"{}\".format([np.around(num, 3) for num in tf.nn.softmax(loaded_model.predict(tf.reshape(adv,\n",
    "                            shape=(1, img_cols, img_rows, channels))))]))\n"
   ],
   "metadata": {
    "collapsed": false,
    "pycharm": {
     "name": "#%%\n"
    }
   }
  },
  {
   "cell_type": "code",
   "execution_count": 167,
   "outputs": [
    {
     "name": "stdout",
     "output_type": "stream",
     "text": [
      "Prediction of original model on adversarial image: 6\n",
      "Prediction of adversarial model on adversarial model: 0\n"
     ]
    }
   ],
   "source": [
    "print(\"Prediction of original model on adversarial image: %d\" % loaded_model.predict(tf.reshape(adv, shape=(1, img_cols, img_rows, channels))).argmax())\n",
    "print(\"Prediction of adversarial model on adversarial model: %d\" % loaded_model_adv.predict(tf.reshape(adv, shape=(1, img_cols, img_rows, channels))).argmax())"
   ],
   "metadata": {
    "collapsed": false,
    "pycharm": {
     "name": "#%%\n"
    }
   }
  },
  {
   "cell_type": "code",
   "execution_count": 168,
   "outputs": [
    {
     "name": "stdout",
     "output_type": "stream",
     "text": [
      "Prediction of original model on adversarial image: 9\n",
      "Prediction of adversarial model on adversarial model: 8\n"
     ]
    }
   ],
   "source": [
    "print(\"Prediction of original model on adversarial image: %d\" % loaded_model.predict(tf.reshape(adv1, shape=(1, img_cols, img_rows, channels))).argmax())\n",
    "print(\"Prediction of adversarial model on adversarial model: %d\" % loaded_model_adv.predict(tf.reshape(adv1, shape=(1, img_cols, img_rows, channels))).argmax())"
   ],
   "metadata": {
    "collapsed": false,
    "pycharm": {
     "name": "#%%\n"
    }
   }
  },
  {
   "cell_type": "code",
   "execution_count": 64,
   "outputs": [],
   "source": [
    "jsma1 = JSMA(loaded_model1, img_rows_C, img_cols_C, channels_C)"
   ],
   "metadata": {
    "collapsed": false,
    "pycharm": {
     "name": "#%%\n"
    }
   }
  },
  {
   "cell_type": "code",
   "execution_count": 65,
   "outputs": [],
   "source": [
    "image_С = X_test_C[91].reshape((1, img_rows_C, img_cols_C, channels_C))\n",
    "\n",
    "target_С = X_test_C[65].reshape((1, img_rows_C, img_cols_C, channels_C))\n",
    "adv_C, pert_С = jsma1.adversarial_patternJSMA(image_С, target_С, np.argmax(y_test_C[91]),\n",
    "                                             np.argmax(y_test_C[65]), max_iter=300)\n",
    "\n",
    "image_С1 = X_test_C[126].reshape((1, img_rows_C, img_cols_C, channels_C))\n",
    "\n",
    "target_С1 = X_test_C[47].reshape((1, img_rows_C, img_cols_C, channels_C))\n",
    "adv_C1, pert_С1 = jsma1.adversarial_patternJSMA(image_С1, target_С1, np.argmax(y_test_C[126]),\n",
    "                                             np.argmax(y_test_C[47]), max_iter=390)"
   ],
   "metadata": {
    "collapsed": false,
    "pycharm": {
     "name": "#%%\n"
    }
   }
  },
  {
   "cell_type": "code",
   "execution_count": 66,
   "outputs": [
    {
     "data": {
      "text/plain": "<matplotlib.image.AxesImage at 0x182d703c588>"
     },
     "execution_count": 66,
     "metadata": {},
     "output_type": "execute_result"
    },
    {
     "data": {
      "text/plain": "<Figure size 1080x1080 with 2 Axes>",
      "image/png": "[encoded data removed]"
     },
     "metadata": {
      "needs_background": "light"
     },
     "output_type": "display_data"
    }
   ],
   "source": [
    "plt.figure(figsize=(15, 15))\n",
    "\n",
    "plt.subplot(121)\n",
    "plt.imshow(X_test_C[91], cmap=\"gray\")\n",
    "\n",
    "plt.subplot(122)\n",
    "plt.imshow(X_test_C[126], cmap=\"gray\")"
   ],
   "metadata": {
    "collapsed": false,
    "pycharm": {
     "name": "#%%\n"
    }
   }
  },
  {
   "cell_type": "code",
   "execution_count": 67,
   "outputs": [
    {
     "data": {
      "text/plain": "<matplotlib.image.AxesImage at 0x182d7052ec8>"
     },
     "execution_count": 67,
     "metadata": {},
     "output_type": "execute_result"
    },
    {
     "data": {
      "text/plain": "<Figure size 1080x1080 with 2 Axes>",
      "image/png": "[encoded data removed]"
     },
     "metadata": {
      "needs_background": "light"
     },
     "output_type": "display_data"
    }
   ],
   "source": [
    "plt.figure(figsize=(15, 15))\n",
    "\n",
    "plt.subplot(121)\n",
    "plt.imshow(X_test_C[65])\n",
    "\n",
    "plt.subplot(122)\n",
    "plt.imshow(X_test_C[47])"
   ],
   "metadata": {
    "collapsed": false,
    "pycharm": {
     "name": "#%%\n"
    }
   }
  },
  {
   "cell_type": "code",
   "execution_count": 68,
   "outputs": [
    {
     "name": "stdout",
     "output_type": "stream",
     "text": [
      "image №1: cat\n",
      "image №2: ship \n",
      "\n",
      "target №1: bird\n",
      "target №2: truck\n"
     ]
    }
   ],
   "source": [
    "print(\"image №1: %s\" % labels_C[np.argmax(y_test_C[91])])\n",
    "print(\"image №2: %s\" % labels_C[np.argmax(y_test_C[126])], \"\\n\")\n",
    "\n",
    "print(\"target №1: %s\" % labels_C[np.argmax(y_test_C[65])])\n",
    "print(\"target №2: %s\" % labels_C[np.argmax(y_test_C[47])])"
   ],
   "metadata": {
    "collapsed": false,
    "pycharm": {
     "name": "#%%\n"
    }
   }
  },
  {
   "cell_type": "code",
   "execution_count": 69,
   "outputs": [
    {
     "data": {
      "text/plain": "<matplotlib.image.AxesImage at 0x1827cf23948>"
     },
     "execution_count": 69,
     "metadata": {},
     "output_type": "execute_result"
    },
    {
     "data": {
      "text/plain": "<Figure size 1080x1080 with 2 Axes>",
      "image/png": "[encoded data removed]"
     },
     "metadata": {
      "needs_background": "light"
     },
     "output_type": "display_data"
    }
   ],
   "source": [
    "plt.figure(figsize=(15, 15))\n",
    "\n",
    "plt.subplot(121)\n",
    "plt.imshow(adv_C.reshape(32, 32, 3))\n",
    "\n",
    "plt.subplot(122)\n",
    "plt.imshow(adv_C1.reshape(32, 32, 3))\n"
   ],
   "metadata": {
    "collapsed": false,
    "pycharm": {
     "name": "#%%\n"
    }
   }
  },
  {
   "cell_type": "code",
   "execution_count": 70,
   "outputs": [
    {
     "name": "stdout",
     "output_type": "stream",
     "text": [
      "WARNING:tensorflow:6 out of the last 11 calls to <function Model.make_predict_function.<locals>.predict_function at 0x00000182747EFEE8> triggered tf.function retracing. Tracing is expensive and the excessive number of tracings could be due to (1) creating @tf.function repeatedly in a loop, (2) passing tensors with different shapes, (3) passing Python objects instead of tensors. For (1), please define your @tf.function outside of the loop. For (2), @tf.function has experimental_relax_shapes=True option that relaxes argument shapes that can avoid unnecessary retracing. For (3), please refer to https://www.tensorflow.org/guide/function#controlling_retracing and https://www.tensorflow.org/api_docs/python/tf/function for  more details.\n",
      "bird\n",
      "truck\n"
     ]
    }
   ],
   "source": [
    "print(labels_C[loaded_model1.predict(tf.reshape(adv_C, shape=(1, img_cols_C, img_rows_C, channels_C))).argmax()])\n",
    "print(labels_C[loaded_model1.predict(tf.reshape(adv_C1, shape=(1, img_cols_C, img_rows_C, channels_C))).argmax()])\n"
   ],
   "metadata": {
    "collapsed": false,
    "pycharm": {
     "name": "#%%\n"
    }
   }
  },
  {
   "cell_type": "code",
   "execution_count": 71,
   "outputs": [],
   "source": [
    "image = X_test[75].reshape((1, img_rows, img_cols, channels))\n",
    "\n",
    "target = X_test[54].reshape((1, img_rows, img_cols, channels))\n",
    "adv, pert = jsma.adversarial_patternJSMA(image, target, np.argmax(y_test[72]), np.argmax(y_test[54]),\n",
    "                                         max_iter=40)\n",
    "\n",
    "image1 = X_test[129].reshape((1, img_rows, img_cols, channels))\n",
    "\n",
    "target1 = X_test[58].reshape((1, img_rows, img_cols, channels))\n",
    "adv1, pert1 = jsma.adversarial_patternJSMA(image1, target1, np.argmax(y_test[122]), np.argmax(y_test[58]),\n",
    "                                           max_iter=40)"
   ],
   "metadata": {
    "collapsed": false,
    "pycharm": {
     "name": "#%%\n"
    }
   }
  },
  {
   "cell_type": "code",
   "execution_count": 128,
   "outputs": [
    {
     "data": {
      "text/plain": "<Figure size 1080x1080 with 3 Axes>",
      "image/png": "[encoded data removed]"
     },
     "metadata": {
      "needs_background": "light"
     },
     "output_type": "display_data"
    }
   ],
   "source": [
    "import cv2\n",
    "\n",
    "plt.figure(figsize=(15, 15))\n",
    "\n",
    "plt.subplot(131)\n",
    "plt.imshow(cv2.resize(adv.reshape(28, 28), (250, 250), interpolation=cv2.INTER_NEAREST), cmap=\"gray\")\n",
    "\n",
    "plt.subplot(132)\n",
    "plt.imshow(cv2.resize(pert.reshape(28, 28), (250, 250), interpolation=cv2.INTER_NEAREST), cmap=\"gray\")\n",
    "\n",
    "plt.subplot(133)\n",
    "plt.imshow(cv2.resize(X_test[54].reshape(28, 28), (250, 250), interpolation=cv2.INTER_NEAREST), cmap=\"gray\")\n",
    "\n",
    "# plt.imsave(\"default_image.png\", cv2.resize(X_test[75].reshape(28, 28), (250, 250), interpolation=cv2.INTER_NEAREST))\n",
    "# plt.imsave(\"adversarial1.png\", cv2.resize(adv.reshape(28, 28), (250, 250), interpolation=cv2.INTER_NEAREST))\n",
    "plt.imsave(\"target.png\", cv2.resize(X_test[54].reshape(28, 28), (250, 250), interpolation=cv2.INTER_NEAREST))\n"
   ],
   "metadata": {
    "collapsed": false,
    "pycharm": {
     "name": "#%%\n"
    }
   }
  }
 ],
 "metadata": {
  "kernelspec": {
   "display_name": "Python 3",
   "language": "python",
   "name": "python3"
  },
  "language_info": {
   "codemirror_mode": {
    "name": "ipython",
    "version": 2
   },
   "file_extension": ".py",
   "mimetype": "text/x-python",
   "name": "python",
   "nbconvert_exporter": "python",
   "pygments_lexer": "ipython2",
   "version": "2.7.6"
  }
 },
 "nbformat": 4,
 "nbformat_minor": 0
}